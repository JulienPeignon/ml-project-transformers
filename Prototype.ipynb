{
 "cells": [
  {
   "cell_type": "code",
   "execution_count": null,
   "id": "2a0b74e5-75b3-43d7-8882-00a97b5f223d",
   "metadata": {},
   "outputs": [],
   "source": [
    "pip install -r requirements.txt"
   ]
  },
  {
   "cell_type": "code",
   "execution_count": 7,
   "id": "8a72fa59-a875-4099-b1ce-acd83ef0b7a6",
   "metadata": {},
   "outputs": [],
   "source": [
    "from huggingface_hub import login\n",
    "from transformers import AutoTokenizer, AutoModelForCausalLM\n",
    "import yaml\n",
    "\n",
    "with open(\"config.yaml\", \"r\") as file:\n",
    "    config = yaml.safe_load(file)\n",
    "\n",
    "hf_token = config[\"huggingface\"][\"token\"]\n",
    "login(\"hf_token\")"
   ]
  },
  {
   "cell_type": "code",
   "execution_count": 11,
   "id": "17912562-a4b4-49ed-ba8a-b4249091cc5f",
   "metadata": {},
   "outputs": [],
   "source": [
    "tokenizer = AutoTokenizer.from_pretrained(\"meta-llama/Llama-3.2-1B\")\n",
    "model = AutoModelForCausalLM.from_pretrained(\"meta-llama/Llama-3.2-1B\")"
   ]
  },
  {
   "cell_type": "code",
   "execution_count": 15,
   "id": "a5160330-937a-41d2-aa58-00d9598d7c6e",
   "metadata": {},
   "outputs": [
    {
     "name": "stdout",
     "output_type": "stream",
     "text": [
      "Dataset URL: https://www.kaggle.com/datasets/sbhatti/news-summarization\n",
      "License(s): CC0-1.0\n",
      "Downloading news-summarization.zip to /home/onyxia/work\n",
      "100%|█████████████████████████████████████▉| 1.37G/1.37G [00:44<00:00, 40.7MB/s]\n",
      "100%|██████████████████████████████████████| 1.37G/1.37G [00:44<00:00, 33.2MB/s]\n"
     ]
    }
   ],
   "source": [
    "!kaggle datasets download -d sbhatti/news-summarization"
   ]
  },
  {
   "cell_type": "code",
   "execution_count": 16,
   "id": "a25a2d30-db39-46e3-8c82-ad4d929c5b16",
   "metadata": {},
   "outputs": [],
   "source": [
    "import zipfile\n",
    "with zipfile.ZipFile('news-summarization.zip', 'r') as zip_ref:\n",
    "    zip_ref.extractall('news-summarization')"
   ]
  }
 ],
 "metadata": {
  "kernelspec": {
   "display_name": "Python 3 (ipykernel)",
   "language": "python",
   "name": "python3"
  },
  "language_info": {
   "codemirror_mode": {
    "name": "ipython",
    "version": 3
   },
   "file_extension": ".py",
   "mimetype": "text/x-python",
   "name": "python",
   "nbconvert_exporter": "python",
   "pygments_lexer": "ipython3",
   "version": "3.12.6"
  }
 },
 "nbformat": 4,
 "nbformat_minor": 5
}
